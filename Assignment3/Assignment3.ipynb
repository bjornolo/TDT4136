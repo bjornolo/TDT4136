{
 "cells": [
  {
   "cell_type": "code",
   "execution_count": 17,
   "metadata": {},
   "outputs": [],
   "source": [
    "from Assignment import *"
   ]
  },
  {
   "cell_type": "code",
   "execution_count": 18,
   "metadata": {},
   "outputs": [],
   "source": [
    "easy=create_sudoku_csp('easy.txt')"
   ]
  },
  {
   "cell_type": "code",
   "execution_count": 26,
   "metadata": {},
   "outputs": [],
   "source": [
    "map=create_map_coloring_csp()"
   ]
  },
  {
   "cell_type": "code",
   "execution_count": 34,
   "metadata": {},
   "outputs": [
    {
     "name": "stdout",
     "output_type": "stream",
     "text": [
      "WA\n",
      "['red', 'green', 'blue']\n"
     ]
    }
   ],
   "source": [
    "assignment=copy.deepcopy(map.domains)\n",
    "var=map.select_unassigned_variable(assignment)\n",
    "print(var)\n",
    "print(assignment[var])"
   ]
  },
  {
   "cell_type": "code",
   "execution_count": null,
   "metadata": {},
   "outputs": [],
   "source": [
    "\n",
    "\n",
    "# Check if assignment is complete\n",
    "if all(len(assignment[key]) == 1 for key in assignment):\n",
    "    print(assignment)\n",
    "\n",
    "# Select unassigned variable\n",
    "var = map.select_unassigned_variable(assignment)\n",
    "\n",
    "# Loop through the domain of the variable\n",
    "for value in assignment[var]:\n",
    "    # Make a deep copy of assignment\n",
    "    new_assignment = copy.deepcopy(assignment)\n",
    "\n",
    "    # Assign the value to the variable\n",
    "    new_assignment[var] = [value]\n",
    "\n",
    "    # Check if the assignment is consistent\n",
    "    if map.inference(new_assignment, map.get_all_neighboring_arcs(var)):\n",
    "        # Recursive call\n",
    "        result = map.backtrack(new_assignment)\n",
    "\n",
    "        # Check if the result is not None\n",
    "        if result is not None:\n",
    "            print(result)\n",
    "\n",
    "# Return None if no solution was found\n",
    "print(\"No solution found\")"
   ]
  },
  {
   "cell_type": "code",
   "execution_count": 28,
   "metadata": {},
   "outputs": [
    {
     "name": "stdout",
     "output_type": "stream",
     "text": [
      "entering backtracking_search\n",
      "entering backtrack 8\n",
      "entering backtrack 9\n",
      "entering backtrack 10\n",
      "entering backtrack 11\n",
      "entering backtrack 12\n",
      "entering backtrack 13\n",
      "entering backtrack 14\n",
      "entering backtrack 15\n",
      "{'WA': ['red'], 'NT': ['red'], 'Q': ['red'], 'NSW': ['red'], 'V': ['red'], 'SA': ['red'], 'T': ['red']}\n"
     ]
    }
   ],
   "source": [
    "map_solutions=map.backtracking_search()\n",
    "print(map_solutions)"
   ]
  },
  {
   "cell_type": "code",
   "execution_count": 19,
   "metadata": {},
   "outputs": [
    {
     "name": "stdout",
     "output_type": "stream",
     "text": [
      "entering backtracking_search\n",
      "entering backtrack 0\n",
      "entering backtrack 1\n",
      "entering backtrack 2\n",
      "entering backtrack 3\n",
      "entering backtrack 4\n",
      "entering backtrack 5\n",
      "entering backtrack 6\n",
      "entering backtrack 7\n",
      "entering backtrack 8\n",
      "entering backtrack 9\n",
      "entering backtrack 10\n",
      "entering backtrack 11\n",
      "entering backtrack 12\n",
      "entering backtrack 13\n",
      "entering backtrack 14\n",
      "entering backtrack 15\n",
      "entering backtrack 16\n",
      "entering backtrack 17\n",
      "entering backtrack 18\n",
      "entering backtrack 19\n",
      "entering backtrack 20\n",
      "entering backtrack 21\n",
      "entering backtrack 22\n",
      "entering backtrack 23\n",
      "entering backtrack 24\n",
      "entering backtrack 25\n",
      "entering backtrack 26\n",
      "entering backtrack 27\n",
      "entering backtrack 28\n",
      "entering backtrack 29\n",
      "entering backtrack 30\n",
      "entering backtrack 31\n",
      "entering backtrack 32\n",
      "entering backtrack 33\n",
      "entering backtrack 34\n",
      "entering backtrack 35\n",
      "entering backtrack 36\n",
      "entering backtrack 37\n",
      "entering backtrack 38\n",
      "entering backtrack 39\n",
      "entering backtrack 40\n",
      "entering backtrack 41\n",
      "entering backtrack 42\n",
      "entering backtrack 43\n",
      "entering backtrack 44\n",
      "entering backtrack 45\n",
      "entering backtrack 46\n",
      "entering backtrack 47\n",
      "entering backtrack 48\n",
      "entering backtrack 49\n"
     ]
    }
   ],
   "source": [
    "easy_solution=easy.backtracking_search()"
   ]
  },
  {
   "cell_type": "code",
   "execution_count": 20,
   "metadata": {},
   "outputs": [
    {
     "name": "stdout",
     "output_type": "stream",
     "text": [
      "1 1 4 | 1 3 1 | 1 5 1 \n",
      "6 1 9 | 4 1 1 | 1 1 1 \n",
      "1 1 5 | 1 1 1 | 4 8 9 \n",
      "------+-------+------\n",
      "1 1 1 | 1 6 1 | 9 3 1 \n",
      "3 1 1 | 8 1 7 | 1 1 2 \n",
      "1 2 6 | 1 4 1 | 1 1 1 \n",
      "------+-------+------\n",
      "4 5 3 | 1 1 9 | 6 1 1 \n",
      "1 1 1 | 1 1 4 | 7 1 5 \n",
      "1 9 1 | 1 5 1 | 2 1 1 \n"
     ]
    }
   ],
   "source": [
    "print_sudoku_solution(easy_solution)"
   ]
  },
  {
   "cell_type": "code",
   "execution_count": 21,
   "metadata": {},
   "outputs": [],
   "source": [
    "#make trivial soduku solution if domain is a single value use that value else use *\n",
    "trivial_solution = {var: easy.domains[var][0] if len(easy.domains[var]) == 1 else '*' for var in easy.variables}"
   ]
  },
  {
   "cell_type": "code",
   "execution_count": 22,
   "metadata": {},
   "outputs": [
    {
     "name": "stdout",
     "output_type": "stream",
     "text": [
      "* * 4 | * 3 * | * 5 * \n",
      "6 * 9 | 4 * * | * * * \n",
      "* * 5 | 1 * * | 4 8 9 \n",
      "------+-------+------\n",
      "* * * | * 6 * | 9 3 * \n",
      "3 * * | 8 * 7 | * * 2 \n",
      "* 2 6 | * 4 * | * * * \n",
      "------+-------+------\n",
      "4 5 3 | * * 9 | 6 * * \n",
      "* * * | * * 4 | 7 * 5 \n",
      "* 9 * | * 5 * | 2 * * \n"
     ]
    }
   ],
   "source": [
    "print_sudoku_solution(trivial_solution)"
   ]
  }
 ],
 "metadata": {
  "kernelspec": {
   "display_name": "TDT3146CONDA",
   "language": "python",
   "name": "python3"
  },
  "language_info": {
   "codemirror_mode": {
    "name": "ipython",
    "version": 3
   },
   "file_extension": ".py",
   "mimetype": "text/x-python",
   "name": "python",
   "nbconvert_exporter": "python",
   "pygments_lexer": "ipython3",
   "version": "3.11.5"
  },
  "orig_nbformat": 4
 },
 "nbformat": 4,
 "nbformat_minor": 2
}
