{
 "cells": [
  {
   "cell_type": "markdown",
   "metadata": {},
   "source": [
    "# Assignment 3 \n",
    "Bjørn Olav Loftsgarden"
   ]
  },
  {
   "cell_type": "code",
   "execution_count": 25,
   "metadata": {},
   "outputs": [],
   "source": [
    "from Assignment import *"
   ]
  },
  {
   "cell_type": "markdown",
   "metadata": {},
   "source": [
    "## Map coloring \n",
    "\n",
    "No reduction of domain in AC-3.\n",
    "No failures due to simple problem with no dead ends."
   ]
  },
  {
   "cell_type": "code",
   "execution_count": 26,
   "metadata": {},
   "outputs": [
    {
     "name": "stdout",
     "output_type": "stream",
     "text": [
      "solution: \n",
      " {'WA': ['red'], 'NT': ['green'], 'Q': ['red'], 'NSW': ['green'], 'V': ['red'], 'SA': ['blue'], 'T': ['red']}\n",
      "Backtracks in search:  4\n",
      "backtrack failures:  0\n"
     ]
    }
   ],
   "source": [
    "map=create_map_coloring_csp()\n",
    "map_solutions=map.backtracking_search()\n",
    "print(\"solution: \\n\",map_solutions)\n",
    "print(\"Backtracks in search: \",map.backtracks)\n",
    "print(\"backtrack failures: \",map.backtrack_failures)"
   ]
  },
  {
   "cell_type": "markdown",
   "metadata": {},
   "source": [
    "## Easy Sudoku\n",
    "\n",
    "Easy board where AC-3 gives solution and no need for further backtracking."
   ]
  },
  {
   "cell_type": "code",
   "execution_count": 27,
   "metadata": {},
   "outputs": [
    {
     "name": "stdout",
     "output_type": "stream",
     "text": [
      "7 8 4 | 9 3 2 | 1 5 6 \n",
      "6 1 9 | 4 8 5 | 3 2 7 \n",
      "2 3 5 | 1 7 6 | 4 8 9 \n",
      "------+-------+------\n",
      "5 7 8 | 2 6 1 | 9 3 4 \n",
      "3 4 1 | 8 9 7 | 5 6 2 \n",
      "9 2 6 | 5 4 3 | 8 7 1 \n",
      "------+-------+------\n",
      "4 5 3 | 7 2 9 | 6 1 8 \n",
      "8 6 2 | 3 1 4 | 7 9 5 \n",
      "1 9 7 | 6 5 8 | 2 4 3 \n",
      "Backtracks in search:  1\n",
      "backtrack failures:  0\n"
     ]
    }
   ],
   "source": [
    "easy=create_sudoku_csp('easy.txt')\n",
    "easy_solution=easy.backtracking_search()\n",
    "print_sudoku_solution(easy_solution)\n",
    "print(\"Backtracks in search: \",easy.backtracks)\n",
    "print(\"backtrack failures: \",easy.backtrack_failures)"
   ]
  },
  {
   "cell_type": "markdown",
   "metadata": {},
   "source": [
    "## Medium Sudoku\n",
    "\n",
    "Medium problem where AC-3 does not give a solution but no dead ends in search so no failures."
   ]
  },
  {
   "cell_type": "code",
   "execution_count": 28,
   "metadata": {},
   "outputs": [
    {
     "name": "stdout",
     "output_type": "stream",
     "text": [
      "8 7 5 | 9 3 6 | 1 4 2 \n",
      "1 6 9 | 7 2 4 | 3 8 5 \n",
      "2 4 3 | 8 5 1 | 6 7 9 \n",
      "------+-------+------\n",
      "4 5 2 | 6 9 7 | 8 3 1 \n",
      "9 8 6 | 4 1 3 | 2 5 7 \n",
      "7 3 1 | 5 8 2 | 9 6 4 \n",
      "------+-------+------\n",
      "5 1 7 | 3 6 9 | 4 2 8 \n",
      "6 2 8 | 1 4 5 | 7 9 3 \n",
      "3 9 4 | 2 7 8 | 5 1 6 \n",
      "Backtracks in search:  3\n",
      "backtrack failures:  0\n"
     ]
    }
   ],
   "source": [
    "medium=create_sudoku_csp('medium.txt')\n",
    "medium_solution=medium.backtracking_search()\n",
    "print_sudoku_solution(medium_solution)\n",
    "print(\"Backtracks in search: \",medium.backtracks)\n",
    "print(\"backtrack failures: \",medium.backtrack_failures)"
   ]
  },
  {
   "cell_type": "markdown",
   "metadata": {},
   "source": [
    "## Hard Sudoku\n",
    "\n",
    "Harder problem where backtrack algorithm falls into dead ends and gets 4 backtracking failures."
   ]
  },
  {
   "cell_type": "code",
   "execution_count": 29,
   "metadata": {},
   "outputs": [
    {
     "name": "stdout",
     "output_type": "stream",
     "text": [
      "1 5 2 | 3 4 6 | 8 9 7 \n",
      "4 3 7 | 1 8 9 | 6 5 2 \n",
      "6 8 9 | 5 7 2 | 3 1 4 \n",
      "------+-------+------\n",
      "8 2 1 | 6 3 7 | 9 4 5 \n",
      "5 4 3 | 8 9 1 | 7 2 6 \n",
      "9 7 6 | 4 2 5 | 1 8 3 \n",
      "------+-------+------\n",
      "7 9 8 | 2 5 3 | 4 6 1 \n",
      "3 6 5 | 9 1 4 | 2 7 8 \n",
      "2 1 4 | 7 6 8 | 5 3 9 \n",
      "Backtracks in search:  12\n",
      "backtrack failures:  4\n"
     ]
    }
   ],
   "source": [
    "hard=create_sudoku_csp('hard.txt')\n",
    "hard_solution=hard.backtracking_search()\n",
    "print_sudoku_solution(hard_solution)\n",
    "print(\"Backtracks in search: \",hard.backtracks)\n",
    "print(\"backtrack failures: \",hard.backtrack_failures)"
   ]
  },
  {
   "cell_type": "markdown",
   "metadata": {},
   "source": [
    "## Very hard Sudoku\n",
    "\n",
    "Very hard problem with deep backtracking searches and lots of failures.  \n",
    "Gets a solution in the end after 68 backtrack calls where 57 where failures."
   ]
  },
  {
   "cell_type": "code",
   "execution_count": 30,
   "metadata": {},
   "outputs": [
    {
     "name": "stdout",
     "output_type": "stream",
     "text": [
      "4 3 1 | 8 6 7 | 9 2 5 \n",
      "6 5 2 | 4 9 1 | 3 8 7 \n",
      "8 9 7 | 5 3 2 | 1 6 4 \n",
      "------+-------+------\n",
      "3 8 4 | 9 7 6 | 5 1 2 \n",
      "5 1 9 | 2 8 4 | 7 3 6 \n",
      "2 7 6 | 3 1 5 | 8 4 9 \n",
      "------+-------+------\n",
      "9 4 3 | 7 2 8 | 6 5 1 \n",
      "7 6 5 | 1 4 3 | 2 9 8 \n",
      "1 2 8 | 6 5 9 | 4 7 3 \n",
      "Backtracks in search:  68\n",
      "backtrack failures:  57\n"
     ]
    }
   ],
   "source": [
    "very_hard=create_sudoku_csp('veryhard.txt')\n",
    "very_hard_solution=very_hard.backtracking_search()\n",
    "print_sudoku_solution(very_hard_solution)\n",
    "print(\"Backtracks in search: \",very_hard.backtracks)\n",
    "print(\"backtrack failures: \",very_hard.backtrack_failures)"
   ]
  }
 ],
 "metadata": {
  "kernelspec": {
   "display_name": "TDT3146CONDA",
   "language": "python",
   "name": "python3"
  },
  "language_info": {
   "codemirror_mode": {
    "name": "ipython",
    "version": 3
   },
   "file_extension": ".py",
   "mimetype": "text/x-python",
   "name": "python",
   "nbconvert_exporter": "python",
   "pygments_lexer": "ipython3",
   "version": "3.11.5"
  },
  "orig_nbformat": 4
 },
 "nbformat": 4,
 "nbformat_minor": 2
}
