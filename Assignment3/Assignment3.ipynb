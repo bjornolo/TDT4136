{
 "cells": [
  {
   "cell_type": "code",
   "execution_count": 1,
   "metadata": {},
   "outputs": [],
   "source": [
    "from Assignment import *"
   ]
  },
  {
   "cell_type": "code",
   "execution_count": 2,
   "metadata": {},
   "outputs": [],
   "source": [
    "map=create_map_coloring_csp()"
   ]
  },
  {
   "cell_type": "code",
   "execution_count": 3,
   "metadata": {},
   "outputs": [
    {
     "name": "stdout",
     "output_type": "stream",
     "text": [
      "WA\n",
      "['red', 'green', 'blue']\n"
     ]
    }
   ],
   "source": [
    "assignment=copy.deepcopy(map.domains)\n",
    "var=map.select_unassigned_variable(assignment)\n",
    "print(var)\n",
    "print(assignment[var])"
   ]
  },
  {
   "cell_type": "code",
   "execution_count": 4,
   "metadata": {},
   "outputs": [
    {
     "name": "stdout",
     "output_type": "stream",
     "text": [
      "entering backtracking_search\n",
      "entering backtrack 1\n",
      "entering backtrack 2\n",
      "entering backtrack 3\n",
      "entering backtrack 4\n",
      "solution: \n",
      " {'WA': ['red'], 'NT': ['green'], 'Q': ['red'], 'NSW': ['green'], 'V': ['red'], 'SA': ['blue'], 'T': ['red']}\n"
     ]
    }
   ],
   "source": [
    "map_solutions=map.backtracking_search()\n",
    "print(\"solution: \\n\",map_solutions)"
   ]
  },
  {
   "cell_type": "code",
   "execution_count": 5,
   "metadata": {},
   "outputs": [
    {
     "name": "stdout",
     "output_type": "stream",
     "text": [
      "entering backtracking_search\n",
      "entering backtrack 1\n",
      "7 8 4 | 9 3 2 | 1 5 6 \n",
      "6 1 9 | 4 8 5 | 3 2 7 \n",
      "2 3 5 | 1 7 6 | 4 8 9 \n",
      "------+-------+------\n",
      "5 7 8 | 2 6 1 | 9 3 4 \n",
      "3 4 1 | 8 9 7 | 5 6 2 \n",
      "9 2 6 | 5 4 3 | 8 7 1 \n",
      "------+-------+------\n",
      "4 5 3 | 7 2 9 | 6 1 8 \n",
      "8 6 2 | 3 1 4 | 7 9 5 \n",
      "1 9 7 | 6 5 8 | 2 4 3 \n"
     ]
    }
   ],
   "source": [
    "easy=create_sudoku_csp('easy.txt')\n",
    "easy_solution=easy.backtracking_search()\n",
    "print_sudoku_solution(easy_solution)"
   ]
  },
  {
   "cell_type": "code",
   "execution_count": 6,
   "metadata": {},
   "outputs": [
    {
     "name": "stdout",
     "output_type": "stream",
     "text": [
      "entering backtracking_search\n",
      "entering backtrack 1\n",
      "entering backtrack 2\n",
      "entering backtrack 3\n",
      "8 7 5 | 9 3 6 | 1 4 2 \n",
      "1 6 9 | 7 2 4 | 3 8 5 \n",
      "2 4 3 | 8 5 1 | 6 7 9 \n",
      "------+-------+------\n",
      "4 5 2 | 6 9 7 | 8 3 1 \n",
      "9 8 6 | 4 1 3 | 2 5 7 \n",
      "7 3 1 | 5 8 2 | 9 6 4 \n",
      "------+-------+------\n",
      "5 1 7 | 3 6 9 | 4 2 8 \n",
      "6 2 8 | 1 4 5 | 7 9 3 \n",
      "3 9 4 | 2 7 8 | 5 1 6 \n"
     ]
    }
   ],
   "source": [
    "medium=create_sudoku_csp('medium.txt')\n",
    "medium_solution=medium.backtracking_search()\n",
    "print_sudoku_solution(medium_solution)"
   ]
  },
  {
   "cell_type": "code",
   "execution_count": 9,
   "metadata": {},
   "outputs": [
    {
     "name": "stdout",
     "output_type": "stream",
     "text": [
      "entering backtracking_search\n",
      "entering backtrack 1\n",
      "entering backtrack 2\n",
      "entering backtrack 3\n",
      "entering backtrack 4\n",
      "entering backtrack 5\n",
      "entering backtrack 6\n",
      "entering backtrack 7\n",
      "entering backtrack 8\n",
      "entering backtrack 9\n",
      "entering backtrack 10\n",
      "entering backtrack 11\n",
      "entering backtrack 12\n",
      "1 5 2 | 3 4 6 | 8 9 7 \n",
      "4 3 7 | 1 8 9 | 6 5 2 \n",
      "6 8 9 | 5 7 2 | 3 1 4 \n",
      "------+-------+------\n",
      "8 2 1 | 6 3 7 | 9 4 5 \n",
      "5 4 3 | 8 9 1 | 7 2 6 \n",
      "9 7 6 | 4 2 5 | 1 8 3 \n",
      "------+-------+------\n",
      "7 9 8 | 2 5 3 | 4 6 1 \n",
      "3 6 5 | 9 1 4 | 2 7 8 \n",
      "2 1 4 | 7 6 8 | 5 3 9 \n"
     ]
    }
   ],
   "source": [
    "hard=create_sudoku_csp('hard.txt')\n",
    "hard_solution=hard.backtracking_search()\n",
    "print_sudoku_solution(hard_solution)"
   ]
  },
  {
   "cell_type": "code",
   "execution_count": 10,
   "metadata": {},
   "outputs": [
    {
     "name": "stdout",
     "output_type": "stream",
     "text": [
      "entering backtracking_search\n",
      "entering backtrack 1\n",
      "entering backtrack 2\n",
      "entering backtrack 3\n",
      "entering backtrack 4\n",
      "entering backtrack 5\n",
      "entering backtrack 6\n",
      "entering backtrack 7\n",
      "entering backtrack 8\n",
      "entering backtrack 9\n",
      "entering backtrack 10\n",
      "entering backtrack 11\n",
      "entering backtrack 12\n",
      "entering backtrack 13\n",
      "entering backtrack 14\n",
      "entering backtrack 15\n",
      "entering backtrack 16\n",
      "entering backtrack 17\n",
      "entering backtrack 18\n",
      "entering backtrack 19\n",
      "entering backtrack 20\n",
      "entering backtrack 21\n",
      "entering backtrack 22\n",
      "entering backtrack 23\n",
      "entering backtrack 24\n",
      "entering backtrack 25\n",
      "entering backtrack 26\n",
      "entering backtrack 27\n",
      "entering backtrack 28\n",
      "entering backtrack 29\n",
      "entering backtrack 30\n",
      "entering backtrack 31\n",
      "entering backtrack 32\n",
      "entering backtrack 33\n",
      "entering backtrack 34\n",
      "entering backtrack 35\n",
      "entering backtrack 36\n",
      "entering backtrack 37\n",
      "entering backtrack 38\n",
      "entering backtrack 39\n",
      "entering backtrack 40\n",
      "entering backtrack 41\n",
      "entering backtrack 42\n",
      "entering backtrack 43\n",
      "entering backtrack 44\n",
      "entering backtrack 45\n",
      "entering backtrack 46\n",
      "entering backtrack 47\n",
      "entering backtrack 48\n",
      "entering backtrack 49\n",
      "entering backtrack 50\n",
      "entering backtrack 51\n",
      "entering backtrack 52\n",
      "entering backtrack 53\n",
      "entering backtrack 54\n",
      "entering backtrack 55\n",
      "entering backtrack 56\n",
      "entering backtrack 57\n",
      "entering backtrack 58\n",
      "entering backtrack 59\n",
      "entering backtrack 60\n",
      "entering backtrack 61\n",
      "entering backtrack 62\n",
      "entering backtrack 63\n",
      "entering backtrack 64\n",
      "entering backtrack 65\n",
      "entering backtrack 66\n",
      "entering backtrack 67\n",
      "entering backtrack 68\n",
      "4 3 1 | 8 6 7 | 9 2 5 \n",
      "6 5 2 | 4 9 1 | 3 8 7 \n",
      "8 9 7 | 5 3 2 | 1 6 4 \n",
      "------+-------+------\n",
      "3 8 4 | 9 7 6 | 5 1 2 \n",
      "5 1 9 | 2 8 4 | 7 3 6 \n",
      "2 7 6 | 3 1 5 | 8 4 9 \n",
      "------+-------+------\n",
      "9 4 3 | 7 2 8 | 6 5 1 \n",
      "7 6 5 | 1 4 3 | 2 9 8 \n",
      "1 2 8 | 6 5 9 | 4 7 3 \n"
     ]
    }
   ],
   "source": [
    "very_hard=create_sudoku_csp('veryhard.txt')\n",
    "very_hard_solution=very_hard.backtracking_search()\n",
    "print_sudoku_solution(very_hard_solution)"
   ]
  },
  {
   "cell_type": "code",
   "execution_count": 7,
   "metadata": {},
   "outputs": [],
   "source": [
    "#make trivial soduku solution if domain is a single value use that value else use *\n",
    "trivial_solution = {var: easy.domains[var][0] if len(easy.domains[var]) == 1 else '*' for var in easy.variables}"
   ]
  },
  {
   "cell_type": "code",
   "execution_count": 8,
   "metadata": {},
   "outputs": [
    {
     "name": "stdout",
     "output_type": "stream",
     "text": [
      "* * 4 | * 3 * | * 5 * \n",
      "6 * 9 | 4 * * | * * * \n",
      "* * 5 | 1 * * | 4 8 9 \n",
      "------+-------+------\n",
      "* * * | * 6 * | 9 3 * \n",
      "3 * * | 8 * 7 | * * 2 \n",
      "* 2 6 | * 4 * | * * * \n",
      "------+-------+------\n",
      "4 5 3 | * * 9 | 6 * * \n",
      "* * * | * * 4 | 7 * 5 \n",
      "* 9 * | * 5 * | 2 * * \n"
     ]
    }
   ],
   "source": [
    "print_sudoku_solution(trivial_solution)"
   ]
  }
 ],
 "metadata": {
  "kernelspec": {
   "display_name": "TDT3146CONDA",
   "language": "python",
   "name": "python3"
  },
  "language_info": {
   "codemirror_mode": {
    "name": "ipython",
    "version": 3
   },
   "file_extension": ".py",
   "mimetype": "text/x-python",
   "name": "python",
   "nbconvert_exporter": "python",
   "pygments_lexer": "ipython3",
   "version": "3.11.5"
  },
  "orig_nbformat": 4
 },
 "nbformat": 4,
 "nbformat_minor": 2
}
